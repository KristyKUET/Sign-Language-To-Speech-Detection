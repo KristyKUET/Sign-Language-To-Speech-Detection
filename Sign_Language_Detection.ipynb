{
  "nbformat": 4,
  "nbformat_minor": 0,
  "metadata": {
    "colab": {
      "name": "Sign Language Detection.ipynb",
      "provenance": []
    },
    "kernelspec": {
      "name": "python3",
      "display_name": "Python 3"
    },
    "language_info": {
      "name": "python"
    }
  },
  "cells": [
    {
      "cell_type": "code",
      "metadata": {
        "id": "i1GrtQd-ICMF",
        "outputId": "76f7d3ab-7ca2-4d56-ceeb-e7a5b2c90009",
        "colab": {
          "base_uri": "https://localhost:8080/",
          "height": 127
        }
      },
      "source": [
        "from google.colab import drive\n",
        "drive.mount('/content/drive')"
      ],
      "execution_count": null,
      "outputs": [
        {
          "output_type": "stream",
          "text": [
            "Go to this URL in a browser: https://accounts.google.com/o/oauth2/auth?client_id=947318989803-6bn6qk8qdgf4n4g3pfee6491hc0brc4i.apps.googleusercontent.com&redirect_uri=urn%3aietf%3awg%3aoauth%3a2.0%3aoob&response_type=code&scope=email%20https%3a%2f%2fwww.googleapis.com%2fauth%2fdocs.test%20https%3a%2f%2fwww.googleapis.com%2fauth%2fdrive%20https%3a%2f%2fwww.googleapis.com%2fauth%2fdrive.photos.readonly%20https%3a%2f%2fwww.googleapis.com%2fauth%2fpeopleapi.readonly\n",
            "\n",
            "Enter your authorization code:\n",
            "··········\n",
            "Mounted at /content/drive\n"
          ],
          "name": "stdout"
        }
      ]
    },
    {
      "cell_type": "code",
      "metadata": {
        "id": "tUvcHSLSIRiU"
      },
      "source": [
        "Training_Dir = '/content/drive/My Drive/final_train_2'\n",
        "Testing_Dir = '/content/drive/My Drive/test'"
      ],
      "execution_count": null,
      "outputs": []
    },
    {
      "cell_type": "code",
      "metadata": {
        "id": "JYPbog5bIRqo",
        "colab": {
          "base_uri": "https://localhost:8080/",
          "height": 82
        },
        "outputId": "a4ba9be1-3b55-4a25-c4b0-a098efb773ed"
      },
      "source": [
        "import tensorflow as tf\n",
        "import keras_preprocessing\n",
        "from keras_preprocessing import image\n",
        "from keras_preprocessing.image import ImageDataGenerator\n",
        "import keras"
      ],
      "execution_count": null,
      "outputs": [
        {
          "output_type": "display_data",
          "data": {
            "text/html": [
              "<p style=\"color: red;\">\n",
              "The default version of TensorFlow in Colab will soon switch to TensorFlow 2.x.<br>\n",
              "We recommend you <a href=\"https://www.tensorflow.org/guide/migrate\" target=\"_blank\">upgrade</a> now \n",
              "or ensure your notebook will continue to use TensorFlow 1.x via the <code>%tensorflow_version 1.x</code> magic:\n",
              "<a href=\"https://colab.research.google.com/notebooks/tensorflow_version.ipynb\" target=\"_blank\">more info</a>.</p>\n"
            ],
            "text/plain": [
              "<IPython.core.display.HTML object>"
            ]
          },
          "metadata": {
            "tags": []
          }
        },
        {
          "output_type": "stream",
          "text": [
            "Using TensorFlow backend.\n"
          ],
          "name": "stderr"
        }
      ]
    },
    {
      "cell_type": "code",
      "metadata": {
        "id": "W0FNaE05IRuq",
        "outputId": "f0934f00-5d03-4d94-8621-c43ae491b49c",
        "colab": {
          "base_uri": "https://localhost:8080/",
          "height": 53
        }
      },
      "source": [
        "training_datagen = ImageDataGenerator(rescale = 1./255)\n",
        "\n",
        "testing_datagen = ImageDataGenerator(rescale = 1./255)\n",
        "\n",
        "train_generator = training_datagen.flow_from_directory(\n",
        "\tTraining_Dir,\n",
        "\ttarget_size=(224,224),\n",
        "  shuffle=True,\n",
        "\tclass_mode='categorical'\n",
        ")\n",
        "\n",
        "\n",
        "testing_generator = testing_datagen.flow_from_directory(\n",
        "\tTesting_Dir,\n",
        "\ttarget_size=(224,224),\n",
        "  shuffle=True,\n",
        "\tclass_mode='categorical'\n",
        ")"
      ],
      "execution_count": null,
      "outputs": [
        {
          "output_type": "stream",
          "text": [
            "Found 38261 images belonging to 26 classes.\n",
            "Found 104 images belonging to 26 classes.\n"
          ],
          "name": "stdout"
        }
      ]
    },
    {
      "cell_type": "code",
      "metadata": {
        "id": "FQ02TBoSIRzL",
        "outputId": "7de1d717-409b-4c64-92dd-c01ef760347d",
        "colab": {
          "base_uri": "https://localhost:8080/",
          "height": 53
        }
      },
      "source": [
        "import numpy as np\n",
        "np.unique(train_generator.classes)"
      ],
      "execution_count": null,
      "outputs": [
        {
          "output_type": "execute_result",
          "data": {
            "text/plain": [
              "array([ 0,  1,  2,  3,  4,  5,  6,  7,  8,  9, 10, 11, 12, 13, 14, 15, 16,\n",
              "       17, 18, 19, 20, 21, 22, 23, 24, 25], dtype=int32)"
            ]
          },
          "metadata": {
            "tags": []
          },
          "execution_count": 12
        }
      ]
    },
    {
      "cell_type": "code",
      "metadata": {
        "id": "huSUe44zIR2j",
        "outputId": "762a0d96-8c07-4786-d56d-871a0e25ebb2",
        "colab": {
          "base_uri": "https://localhost:8080/",
          "height": 953
        }
      },
      "source": [
        "train_generator.class_indices,testing_generator.class_indices"
      ],
      "execution_count": null,
      "outputs": [
        {
          "output_type": "execute_result",
          "data": {
            "text/plain": [
              "({'A': 0,\n",
              "  'B': 1,\n",
              "  'C': 2,\n",
              "  'D': 3,\n",
              "  'E': 4,\n",
              "  'F': 5,\n",
              "  'G': 6,\n",
              "  'H': 7,\n",
              "  'I': 8,\n",
              "  'J': 9,\n",
              "  'K': 10,\n",
              "  'L': 11,\n",
              "  'M': 12,\n",
              "  'N': 13,\n",
              "  'O': 14,\n",
              "  'P': 15,\n",
              "  'Q': 16,\n",
              "  'R': 17,\n",
              "  'S': 18,\n",
              "  'T': 19,\n",
              "  'U': 20,\n",
              "  'V': 21,\n",
              "  'W': 22,\n",
              "  'X': 23,\n",
              "  'Y': 24,\n",
              "  'Z': 25},\n",
              " {'A': 0,\n",
              "  'B': 1,\n",
              "  'C': 2,\n",
              "  'D': 3,\n",
              "  'E': 4,\n",
              "  'F': 5,\n",
              "  'G': 6,\n",
              "  'H': 7,\n",
              "  'I': 8,\n",
              "  'J': 9,\n",
              "  'K': 10,\n",
              "  'L': 11,\n",
              "  'M': 12,\n",
              "  'N': 13,\n",
              "  'O': 14,\n",
              "  'Q': 15,\n",
              "  'R': 16,\n",
              "  'S': 17,\n",
              "  'T': 18,\n",
              "  'U': 19,\n",
              "  'V': 20,\n",
              "  'W': 21,\n",
              "  'X': 22,\n",
              "  'Y': 23,\n",
              "  'Z': 24,\n",
              "  'p': 25})"
            ]
          },
          "metadata": {
            "tags": []
          },
          "execution_count": 13
        }
      ]
    },
    {
      "cell_type": "code",
      "metadata": {
        "id": "ctngFhmyISBC",
        "outputId": "fb6f3dde-86d8-46a0-a1dc-e13d4ad52c19",
        "colab": {
          "base_uri": "https://localhost:8080/",
          "height": 107
        }
      },
      "source": [
        "np.unique(train_generator.classes, return_counts = True)"
      ],
      "execution_count": null,
      "outputs": [
        {
          "output_type": "execute_result",
          "data": {
            "text/plain": [
              "(array([ 0,  1,  2,  3,  4,  5,  6,  7,  8,  9, 10, 11, 12, 13, 14, 15, 16,\n",
              "        17, 18, 19, 20, 21, 22, 23, 24, 25], dtype=int32),\n",
              " array([1500, 1500, 1500, 1500, 1500, 1500, 1500, 1500, 1510, 1500, 1500,\n",
              "        1540, 1500, 1500, 1500, 1500, 1500, 1500, 1500, 1500,  711, 1500,\n",
              "        1500, 1500, 1500, 1500]))"
            ]
          },
          "metadata": {
            "tags": []
          },
          "execution_count": 14
        }
      ]
    },
    {
      "cell_type": "code",
      "metadata": {
        "id": "v7ITTr2gISGe",
        "outputId": "8909094f-5055-4da1-dae9-a4bea3ebc118",
        "colab": {
          "base_uri": "https://localhost:8080/",
          "height": 89
        }
      },
      "source": [
        "np.unique(testing_generator.classes, return_counts = True)"
      ],
      "execution_count": null,
      "outputs": [
        {
          "output_type": "execute_result",
          "data": {
            "text/plain": [
              "(array([ 0,  1,  2,  3,  4,  5,  6,  7,  8,  9, 10, 11, 12, 13, 14, 15, 16,\n",
              "        17, 18, 19, 20, 21, 22, 23, 24, 25], dtype=int32),\n",
              " array([4, 4, 4, 4, 4, 4, 4, 4, 4, 4, 4, 4, 4, 4, 4, 4, 4, 4, 4, 4, 4, 4,\n",
              "        4, 4, 4, 4]))"
            ]
          },
          "metadata": {
            "tags": []
          },
          "execution_count": 15
        }
      ]
    },
    {
      "cell_type": "code",
      "metadata": {
        "id": "bvrvrRRNISKL"
      },
      "source": [
        "model = tf.keras.models.Sequential([\n",
        "    # Note the input shape is the desired size of the image 150x150 with 3 bytes color\n",
        "    # This is the first convolution\n",
        "    tf.keras.layers.Conv2D(16, (3,3), activation='relu', input_shape=(224,224,3)),\n",
        "    tf.keras.layers.MaxPooling2D(2, 2),\n",
        "    tf.keras.layers.Dropout(.25),\n",
        "    # The second convolution\n",
        "    tf.keras.layers.Conv2D(32, (3,3), activation='relu'),\n",
        "    tf.keras.layers.MaxPooling2D(2,2),\n",
        "    tf.keras.layers.Dropout(.25),\n",
        "        # The second convolution\n",
        "    tf.keras.layers.Conv2D(64, (3,3), activation='relu'),\n",
        "    tf.keras.layers.MaxPooling2D(2,2),\n",
        "    tf.keras.layers.Dropout(.25),\n",
        "        # The second convolution\n",
        "    tf.keras.layers.Conv2D(128, (3,3), activation='relu'),\n",
        "    tf.keras.layers.MaxPooling2D(2,2),\n",
        "    tf.keras.layers.Dropout(.25),\n",
        "\n",
        "    # Flatten the results to feed into a DNN\n",
        "    tf.keras.layers.Flatten(),\n",
        "    # 512 neuron hidden layer\n",
        "    tf.keras.layers.Dense(512, activation='relu'),\n",
        "\n",
        "    tf.keras.layers.Dense(26, activation='softmax')\n",
        "])"
      ],
      "execution_count": null,
      "outputs": []
    },
    {
      "cell_type": "code",
      "metadata": {
        "id": "_Jc113TcISQO",
        "outputId": "8c1a6ef3-091e-405c-ab97-f5176682129d",
        "colab": {
          "base_uri": "https://localhost:8080/",
          "height": 35
        }
      },
      "source": [
        "#only to load pretrained model....\n",
        "\n",
        "from keras.models import load_model\n",
        "from keras.preprocessing import image\n",
        "\n",
        "model = tf.keras.models.load_model('/content/drive/My Drive/FinalPretrainModel.hdf5')\n",
        "model.layers[0].input_shape"
      ],
      "execution_count": null,
      "outputs": [
        {
          "output_type": "execute_result",
          "data": {
            "text/plain": [
              "(None, 224, 224, 3)"
            ]
          },
          "metadata": {
            "tags": []
          },
          "execution_count": 18
        }
      ]
    },
    {
      "cell_type": "code",
      "metadata": {
        "id": "-rWpdiRrI34x",
        "colab": {
          "base_uri": "https://localhost:8080/",
          "height": 414
        },
        "outputId": "18104c4e-195f-43bb-8635-287f5adcd9f2"
      },
      "source": [
        "#only to load pretrained model....\n",
        "\n",
        "from keras.models import load_model\n",
        "from keras.preprocessing import image\n",
        "\n",
        "model = tf.keras.models.load_model('/content/drive/My Drive/FinalPretrainModel.hdf5')\n",
        "model.layers[0].input_shape\n",
        "model.layers[1].input_shape\n",
        "model.layers[2].input_shape\n",
        "model.layers[3].input_shape"
      ],
      "execution_count": null,
      "outputs": [
        {
          "output_type": "error",
          "ename": "ValueError",
          "evalue": "ignored",
          "traceback": [
            "\u001b[0;31m---------------------------------------------------------------------------\u001b[0m",
            "\u001b[0;31mValueError\u001b[0m                                Traceback (most recent call last)",
            "\u001b[0;32m<ipython-input-10-3c45279ad43f>\u001b[0m in \u001b[0;36m<module>\u001b[0;34m()\u001b[0m\n\u001b[1;32m      3\u001b[0m \u001b[0;32mfrom\u001b[0m \u001b[0mkeras\u001b[0m\u001b[0;34m.\u001b[0m\u001b[0mpreprocessing\u001b[0m \u001b[0;32mimport\u001b[0m \u001b[0mimage\u001b[0m\u001b[0;34m\u001b[0m\u001b[0;34m\u001b[0m\u001b[0m\n\u001b[1;32m      4\u001b[0m \u001b[0;34m\u001b[0m\u001b[0m\n\u001b[0;32m----> 5\u001b[0;31m \u001b[0mmodel\u001b[0m \u001b[0;34m=\u001b[0m \u001b[0mtf\u001b[0m\u001b[0;34m.\u001b[0m\u001b[0mkeras\u001b[0m\u001b[0;34m.\u001b[0m\u001b[0mmodels\u001b[0m\u001b[0;34m.\u001b[0m\u001b[0mload_model\u001b[0m\u001b[0;34m(\u001b[0m\u001b[0;34m'/content/drive/My Drive/FinalPretrainModel.hdf5'\u001b[0m\u001b[0;34m)\u001b[0m\u001b[0;34m\u001b[0m\u001b[0;34m\u001b[0m\u001b[0m\n\u001b[0m\u001b[1;32m      6\u001b[0m \u001b[0mmodel\u001b[0m\u001b[0;34m.\u001b[0m\u001b[0mlayers\u001b[0m\u001b[0;34m[\u001b[0m\u001b[0;36m0\u001b[0m\u001b[0;34m]\u001b[0m\u001b[0;34m.\u001b[0m\u001b[0minput_shape\u001b[0m\u001b[0;34m\u001b[0m\u001b[0;34m\u001b[0m\u001b[0m\n\u001b[1;32m      7\u001b[0m \u001b[0mmodel\u001b[0m\u001b[0;34m.\u001b[0m\u001b[0mlayers\u001b[0m\u001b[0;34m[\u001b[0m\u001b[0;36m1\u001b[0m\u001b[0;34m]\u001b[0m\u001b[0;34m.\u001b[0m\u001b[0minput_shape\u001b[0m\u001b[0;34m\u001b[0m\u001b[0;34m\u001b[0m\u001b[0m\n",
            "\u001b[0;32m/usr/local/lib/python3.6/dist-packages/tensorflow_core/python/keras/saving/save.py\u001b[0m in \u001b[0;36mload_model\u001b[0;34m(filepath, custom_objects, compile)\u001b[0m\n\u001b[1;32m    141\u001b[0m   if (h5py is not None and (\n\u001b[1;32m    142\u001b[0m       isinstance(filepath, h5py.File) or h5py.is_hdf5(filepath))):\n\u001b[0;32m--> 143\u001b[0;31m     \u001b[0;32mreturn\u001b[0m \u001b[0mhdf5_format\u001b[0m\u001b[0;34m.\u001b[0m\u001b[0mload_model_from_hdf5\u001b[0m\u001b[0;34m(\u001b[0m\u001b[0mfilepath\u001b[0m\u001b[0;34m,\u001b[0m \u001b[0mcustom_objects\u001b[0m\u001b[0;34m,\u001b[0m \u001b[0mcompile\u001b[0m\u001b[0;34m)\u001b[0m\u001b[0;34m\u001b[0m\u001b[0;34m\u001b[0m\u001b[0m\n\u001b[0m\u001b[1;32m    144\u001b[0m \u001b[0;34m\u001b[0m\u001b[0m\n\u001b[1;32m    145\u001b[0m   \u001b[0;32mif\u001b[0m \u001b[0misinstance\u001b[0m\u001b[0;34m(\u001b[0m\u001b[0mfilepath\u001b[0m\u001b[0;34m,\u001b[0m \u001b[0msix\u001b[0m\u001b[0;34m.\u001b[0m\u001b[0mstring_types\u001b[0m\u001b[0;34m)\u001b[0m\u001b[0;34m:\u001b[0m\u001b[0;34m\u001b[0m\u001b[0;34m\u001b[0m\u001b[0m\n",
            "\u001b[0;32m/usr/local/lib/python3.6/dist-packages/tensorflow_core/python/keras/saving/hdf5_format.py\u001b[0m in \u001b[0;36mload_model_from_hdf5\u001b[0;34m(filepath, custom_objects, compile)\u001b[0m\n\u001b[1;32m    157\u001b[0m     \u001b[0mmodel_config\u001b[0m \u001b[0;34m=\u001b[0m \u001b[0mf\u001b[0m\u001b[0;34m.\u001b[0m\u001b[0mattrs\u001b[0m\u001b[0;34m.\u001b[0m\u001b[0mget\u001b[0m\u001b[0;34m(\u001b[0m\u001b[0;34m'model_config'\u001b[0m\u001b[0;34m)\u001b[0m\u001b[0;34m\u001b[0m\u001b[0;34m\u001b[0m\u001b[0m\n\u001b[1;32m    158\u001b[0m     \u001b[0;32mif\u001b[0m \u001b[0mmodel_config\u001b[0m \u001b[0;32mis\u001b[0m \u001b[0;32mNone\u001b[0m\u001b[0;34m:\u001b[0m\u001b[0;34m\u001b[0m\u001b[0;34m\u001b[0m\u001b[0m\n\u001b[0;32m--> 159\u001b[0;31m       \u001b[0;32mraise\u001b[0m \u001b[0mValueError\u001b[0m\u001b[0;34m(\u001b[0m\u001b[0;34m'No model found in config file.'\u001b[0m\u001b[0;34m)\u001b[0m\u001b[0;34m\u001b[0m\u001b[0;34m\u001b[0m\u001b[0m\n\u001b[0m\u001b[1;32m    160\u001b[0m     \u001b[0mmodel_config\u001b[0m \u001b[0;34m=\u001b[0m \u001b[0mjson\u001b[0m\u001b[0;34m.\u001b[0m\u001b[0mloads\u001b[0m\u001b[0;34m(\u001b[0m\u001b[0mmodel_config\u001b[0m\u001b[0;34m.\u001b[0m\u001b[0mdecode\u001b[0m\u001b[0;34m(\u001b[0m\u001b[0;34m'utf-8'\u001b[0m\u001b[0;34m)\u001b[0m\u001b[0;34m)\u001b[0m\u001b[0;34m\u001b[0m\u001b[0;34m\u001b[0m\u001b[0m\n\u001b[1;32m    161\u001b[0m     model = model_config_lib.model_from_config(model_config,\n",
            "\u001b[0;31mValueError\u001b[0m: No model found in config file."
          ]
        }
      ]
    },
    {
      "cell_type": "code",
      "metadata": {
        "id": "fGCoHQvRISU_",
        "outputId": "e4fe6f75-284b-4c05-e7ac-3e916fe9fa40",
        "colab": {
          "base_uri": "https://localhost:8080/",
          "height": 341
        }
      },
      "source": [
        "model.summary()"
      ],
      "execution_count": null,
      "outputs": [
        {
          "output_type": "stream",
          "text": [
            "Model: \"sequential\"\n",
            "_________________________________________________________________\n",
            "Layer (type)                 Output Shape              Param #   \n",
            "=================================================================\n",
            "mobilenetv2_1.00_224 (Model) (None, 7, 7, 1280)        2257984   \n",
            "_________________________________________________________________\n",
            "conv2d (Conv2D)              (None, 5, 5, 32)          368672    \n",
            "_________________________________________________________________\n",
            "dropout (Dropout)            (None, 5, 5, 32)          0         \n",
            "_________________________________________________________________\n",
            "global_average_pooling2d (Gl (None, 32)                0         \n",
            "_________________________________________________________________\n",
            "dense (Dense)                (None, 26)                858       \n",
            "=================================================================\n",
            "Total params: 2,627,514\n",
            "Trainable params: 2,593,402\n",
            "Non-trainable params: 34,112\n",
            "_________________________________________________________________\n"
          ],
          "name": "stdout"
        }
      ]
    },
    {
      "cell_type": "code",
      "metadata": {
        "id": "_Sa2ScEjISOd"
      },
      "source": [
        "model.compile(loss = 'categorical_crossentropy', optimizer='rmsprop', metrics=['accuracy'])"
      ],
      "execution_count": null,
      "outputs": []
    },
    {
      "cell_type": "code",
      "metadata": {
        "id": "NqQyeGEtISFB",
        "outputId": "7356ae13-0328-421f-c27b-7cf254998438",
        "colab": {
          "base_uri": "https://localhost:8080/",
          "height": 233
        }
      },
      "source": [
        "from keras.callbacks import ModelCheckpoint\n",
        "filepath = \"/content/drive/My Drive/FinalPretrainModel.hdf5\"\n",
        "checkpoint = ModelCheckpoint(filepath, monitor='acc', verbose=1, save_best_only=True, mode='max')\n",
        "callbacks_list = [checkpoint]\n",
        "history = model.fit_generator(train_generator, epochs=3, verbose = 1, callbacks= callbacks_list)\n"
      ],
      "execution_count": null,
      "outputs": [
        {
          "output_type": "stream",
          "text": [
            "Epoch 1/3\n",
            "1195/1196 [============================>.] - ETA: 8s - loss: 0.2930 - acc: 0.9241 \n",
            "Epoch 00001: acc improved from -inf to 0.92420, saving model to /content/drive/My Drive/FinalPretrainModel.hdf5\n",
            "1196/1196 [==============================] - 10452s 9s/step - loss: 0.2928 - acc: 0.9242\n",
            "Epoch 2/3\n",
            "1195/1196 [============================>.] - ETA: 0s - loss: 0.1774 - acc: 0.9566\n",
            "Epoch 00002: acc improved from 0.92420 to 0.95661, saving model to /content/drive/My Drive/FinalPretrainModel.hdf5\n",
            "1196/1196 [==============================] - 225s 188ms/step - loss: 0.1772 - acc: 0.9566\n",
            "Epoch 3/3\n",
            "1195/1196 [============================>.] - ETA: 0s - loss: 0.1399 - acc: 0.9662\n",
            "Epoch 00003: acc improved from 0.95661 to 0.96615, saving model to /content/drive/My Drive/FinalPretrainModel.hdf5\n",
            "1196/1196 [==============================] - 224s 187ms/step - loss: 0.1398 - acc: 0.9662\n"
          ],
          "name": "stdout"
        }
      ]
    },
    {
      "cell_type": "code",
      "metadata": {
        "id": "15NXhprQIR-w"
      },
      "source": [
        "from keras.callbacks import ModelCheckpoint\n",
        "filepath = \"/content/drive/My Drive/FinalPretrainModel.hdf5\"\n",
        "checkpoint = ModelCheckpoint(filepath, monitor='acc', verbose=1, save_best_only=True, mode='max')\n",
        "callbacks_list = [checkpoint]\n",
        "history = model.fit_generator(train_generator, epochs=2, verbose = 1, callbacks= callbacks_list)\n"
      ],
      "execution_count": null,
      "outputs": []
    },
    {
      "cell_type": "code",
      "metadata": {
        "id": "XQlxF-ESIR78"
      },
      "source": [
        "#-----------------------------------------------------------train---------------------------------------------------------------\n",
        "import numpy as np\n",
        "y_train_pred = model.predict_generator(train_generator)\n",
        "y_train = train_generator.classes[train_generator.index_array]\n",
        "y_train_pred = np.argmax(y_train_pred, axis=-1)"
      ],
      "execution_count": null,
      "outputs": []
    },
    {
      "cell_type": "code",
      "metadata": {
        "id": "pRR3sUh_IR6t"
      },
      "source": [
        "from sklearn.metrics import confusion_matrix\n",
        "import itertools\n",
        "cnf_matrix = confusion_matrix(y_train, y_train_pred)"
      ],
      "execution_count": null,
      "outputs": []
    },
    {
      "cell_type": "code",
      "metadata": {
        "id": "Xi54cWPvJOCs",
        "outputId": "e06e5847-613f-412f-f753-3ac032493b36",
        "colab": {
          "base_uri": "https://localhost:8080/",
          "height": 1000
        }
      },
      "source": [
        "cnf_matrix"
      ],
      "execution_count": null,
      "outputs": [
        {
          "output_type": "execute_result",
          "data": {
            "text/plain": [
              "array([[1268,    0,    0,    0,   15,    0,    0,   13,   14,    0,    0,\n",
              "           4,    0,    0,    4,    0,    0,    0,   80,   76,    0,    0,\n",
              "           0,   16,   10,    0],\n",
              "       [   5, 1332,    2,    0,  105,    9,    7,   21,    2,    0,    0,\n",
              "           0,    0,    0,    0,    0,    0,    0,    0,    8,    0,    0,\n",
              "           0,    8,    1,    0],\n",
              "       [   0,   35, 1015,    6,    5,   22,  101,   44,   12,    0,    0,\n",
              "          94,    0,    0,   84,    0,    0,    2,   25,   18,    0,    0,\n",
              "           0,   26,   11,    0],\n",
              "       [   1,    0,    3, 1335,    1,    5,    7,    4,   30,    0,    0,\n",
              "          64,    0,    0,    8,    0,    0,    8,    0,    0,    0,    0,\n",
              "           0,   34,    0,    0],\n",
              "       [   0,    0,    0,   32, 1237,    6,   19,   27,   24,    0,    0,\n",
              "           1,    0,    0,   18,    0,    0,    0,   97,   33,    0,    0,\n",
              "           0,    6,    0,    0],\n",
              "       [   0,    0,    0,    6,    0, 1484,    1,    0,    1,    0,    0,\n",
              "           2,    0,    0,    0,    0,    0,    0,    0,    0,    0,    0,\n",
              "           0,    6,    0,    0],\n",
              "       [   0,    0,    1,    1,    0,    7, 1345,  125,    1,    0,    0,\n",
              "           7,    0,    0,    0,    1,    0,    0,    0,    8,    0,    0,\n",
              "           0,    2,    2,    0],\n",
              "       [   1,    0,    0,    0,    0,    0,    5, 1483,    1,    0,    0,\n",
              "           5,    0,    0,    0,    1,    0,    0,    0,    0,    0,    0,\n",
              "           0,    1,    3,    0],\n",
              "       [   0,    0,    1,    3,    1,   10,    5,   29, 1377,    0,    0,\n",
              "          36,    0,    0,    0,    0,    0,    2,   14,   19,    0,    0,\n",
              "           0,   13,    0,    0],\n",
              "       [   0,   17,  268,    0,    1,   24,    3,  365,    0,  444,    0,\n",
              "           8,   20,   72,  119,   32,   90,    0,   28,    6,    0,    0,\n",
              "           0,    3,    0,    0],\n",
              "       [   0,    0,    0,   25,    0,   11,  209,  233,   54,    0,  662,\n",
              "          60,    0,    0,    9,    1,    0,   13,    0,   16,    0,    0,\n",
              "           0,  202,    5,    0],\n",
              "       [   0,    0,    0,    0,    0,    1,    0,    8,    1,    0,    0,\n",
              "        1524,    0,    0,    1,    2,    0,    2,    0,    0,    0,    0,\n",
              "           0,    1,    0,    0],\n",
              "       [   2,    0,    0,    4,  170,    0,    2,   38,    5,    0,    0,\n",
              "           0,  970,    9,  219,    0,    1,    1,   52,   26,    0,    0,\n",
              "           0,    1,    0,    0],\n",
              "       [   0,    0,    0,    0,   35,    2,   22,   44,   10,    0,    0,\n",
              "           7,    0,   64,    6,    2,    0,    0,   13,  668,    0,    0,\n",
              "           0,  627,    0,    0],\n",
              "       [   0,    0,    2,    6,    1,    3,    4,  402,    5,    0,    0,\n",
              "           2,    0,    0, 1008,    0,    0,    0,   52,    9,    0,    0,\n",
              "           0,    6,    0,    0],\n",
              "       [   6,    0,    1,   12,    0,   29,   74,  398,    4,    0,    1,\n",
              "           6,    0,    0,    4,  837,    0,    0,    1,   75,    0,    0,\n",
              "           0,   50,    2,    0],\n",
              "       [   7,    0,    3,    1,    0,    5,  100,  233,    8,    0,    0,\n",
              "          21,    0,    0,   62,   40,  300,    0,  481,  127,    0,    0,\n",
              "           0,  109,    3,    0],\n",
              "       [   1,    2,    0,   44,    3,   17,    9,   43,   65,    0,    0,\n",
              "          45,    0,    0,    1,    0,    0, 1200,    1,    7,    0,    0,\n",
              "           0,   62,    0,    0],\n",
              "       [   0,    0,    0,    0,   28,    0,    3,  173,    9,    0,    0,\n",
              "           0,    0,    0,    0,    0,    0,    0, 1269,    9,    0,    0,\n",
              "           0,    9,    0,    0],\n",
              "       [   0,    0,    0,    1,    3,    7,    3,   10,   16,    0,    0,\n",
              "           2,    0,    0,    1,    2,    0,    0,    0, 1401,    0,    0,\n",
              "           0,   54,    0,    0],\n",
              "       [ 344,   15,    0,    3,    6,    1,   82,   22,    3,    0,    0,\n",
              "           2,    0,    0,    9,    0,    0,   38,   10,    2,   66,    0,\n",
              "           0,  108,    0,    0],\n",
              "       [  12,    0,    4,  219,    1,   31,   31,   25,  329,    0,   15,\n",
              "         181,    0,    1,  130,    1,    1,   20,   13,   15,    0,   70,\n",
              "           0,  361,   40,    0],\n",
              "       [   0,    6,    0,   62,    4,  518,    5,   11,   13,    1,  200,\n",
              "           5,    1,    0,  121,  162,    0,    0,   78,  118,    0,    0,\n",
              "         119,   65,   11,    0],\n",
              "       [   0,    0,    0,    0,    0,   11,   21,   56,    2,    0,    0,\n",
              "           4,    0,    0,    0,    0,    0,    0,    0,    3,    0,    0,\n",
              "           0, 1403,    0,    0],\n",
              "       [   1,    0,    0,    0,    0,   11,    1,    0,   20,    0,    0,\n",
              "          75,    0,    0,    1,    3,    0,    0,    0,   15,    0,    0,\n",
              "           0,    0, 1373,    0],\n",
              "       [ 197,    0,   29,    0,   18,    1,    4,  294,  164,    0,    0,\n",
              "          38,    0,    0,    0,    0,  110,    0,  163,    6,    0,    0,\n",
              "           0,   16,   13,  447]])"
            ]
          },
          "metadata": {
            "tags": []
          },
          "execution_count": 24
        }
      ]
    },
    {
      "cell_type": "code",
      "metadata": {
        "id": "N_r40vqEJOJ3",
        "outputId": "c683dee9-a8a8-4064-b253-35d73aaa1e69",
        "colab": {
          "base_uri": "https://localhost:8080/",
          "height": 35
        }
      },
      "source": [
        "from sklearn.metrics import accuracy_score\n",
        "accuracy_score(y_train, y_train_pred)"
      ],
      "execution_count": null,
      "outputs": [
        {
          "output_type": "execute_result",
          "data": {
            "text/plain": [
              "0.6542693604453621"
            ]
          },
          "metadata": {
            "tags": []
          },
          "execution_count": 25
        }
      ]
    },
    {
      "cell_type": "code",
      "metadata": {
        "id": "w7zexbX-ED4G"
      },
      "source": [
        "from sklearn.metrics import classification_report\n",
        "target_names = ['A', 'B', 'C', 'D','E','F','G','H','I','J','K','L','M','N','O','P','Q','R','S','T','U','V','W','X','Y','Z']"
      ],
      "execution_count": null,
      "outputs": []
    },
    {
      "cell_type": "code",
      "metadata": {
        "id": "VVEPbFrKJa6d",
        "outputId": "746a1a5e-3b12-4327-bb05-99c7e13303e8",
        "colab": {
          "base_uri": "https://localhost:8080/",
          "height": 611
        }
      },
      "source": [
        "print(classification_report(y_train, y_train_pred, target_names=target_names))"
      ],
      "execution_count": null,
      "outputs": [
        {
          "output_type": "stream",
          "text": [
            "              precision    recall  f1-score   support\n",
            "\n",
            "           A       0.69      0.85      0.76      1500\n",
            "           B       0.95      0.89      0.92      1500\n",
            "           C       0.76      0.68      0.72      1500\n",
            "           D       0.76      0.89      0.82      1500\n",
            "           E       0.76      0.82      0.79      1500\n",
            "           F       0.67      0.99      0.80      1500\n",
            "           G       0.65      0.90      0.75      1500\n",
            "           H       0.36      0.99      0.53      1500\n",
            "           I       0.63      0.91      0.75      1510\n",
            "           J       1.00      0.30      0.46      1500\n",
            "           K       0.75      0.44      0.56      1500\n",
            "           L       0.69      0.99      0.82      1540\n",
            "           M       0.98      0.65      0.78      1500\n",
            "           N       0.44      0.04      0.08      1500\n",
            "           O       0.56      0.67      0.61      1500\n",
            "           P       0.77      0.56      0.65      1500\n",
            "           Q       0.60      0.20      0.30      1500\n",
            "           R       0.93      0.80      0.86      1500\n",
            "           S       0.53      0.85      0.65      1500\n",
            "           T       0.53      0.93      0.67      1500\n",
            "           U       1.00      0.09      0.17       711\n",
            "           V       1.00      0.05      0.09      1500\n",
            "           W       1.00      0.08      0.15      1500\n",
            "           X       0.44      0.94      0.60      1500\n",
            "           Y       0.93      0.92      0.92      1500\n",
            "           Z       1.00      0.30      0.46      1500\n",
            "\n",
            "    accuracy                           0.65     38261\n",
            "   macro avg       0.75      0.64      0.60     38261\n",
            "weighted avg       0.74      0.65      0.61     38261\n",
            "\n"
          ],
          "name": "stdout"
        }
      ]
    },
    {
      "cell_type": "code",
      "metadata": {
        "id": "IBwt5g4VJbAg"
      },
      "source": [
        "#---------------------------------------------------------------test--------------------------------------------------------\n",
        "y_test_pred = model.predict_generator(testing_generator)\n",
        "y_test = testing_generator.classes[testing_generator.index_array]\n",
        "y_test_pred = np.argmax(y_test_pred, axis=-1)"
      ],
      "execution_count": null,
      "outputs": []
    },
    {
      "cell_type": "code",
      "metadata": {
        "id": "Cemf24hdJbEz"
      },
      "source": [
        "from sklearn.metrics import confusion_matrix\n",
        "import itertools\n",
        "cnf_matrix_test = confusion_matrix(y_test, y_test_pred)"
      ],
      "execution_count": null,
      "outputs": []
    },
    {
      "cell_type": "code",
      "metadata": {
        "id": "eNBHcVxPJa9-",
        "outputId": "42f2a9bd-e918-412f-c455-c6f3c592d119",
        "colab": {
          "base_uri": "https://localhost:8080/",
          "height": 953
        }
      },
      "source": [
        "cnf_matrix_test"
      ],
      "execution_count": null,
      "outputs": [
        {
          "output_type": "execute_result",
          "data": {
            "text/plain": [
              "array([[0, 1, 0, 0, 0, 1, 0, 0, 0, 0, 0, 0, 0, 0, 1, 0, 0, 0, 0, 1, 0, 0,\n",
              "        0, 0, 0, 0],\n",
              "       [0, 0, 0, 0, 0, 0, 1, 0, 0, 0, 0, 1, 0, 0, 0, 0, 0, 0, 0, 1, 0, 0,\n",
              "        0, 0, 0, 1],\n",
              "       [1, 1, 0, 0, 0, 0, 0, 0, 0, 0, 1, 0, 0, 0, 0, 0, 0, 0, 0, 0, 1, 0,\n",
              "        0, 0, 0, 0],\n",
              "       [0, 0, 0, 0, 0, 2, 0, 0, 0, 1, 0, 0, 0, 0, 0, 0, 0, 1, 0, 0, 0, 0,\n",
              "        0, 0, 0, 0],\n",
              "       [0, 0, 1, 0, 0, 0, 0, 1, 0, 0, 0, 1, 0, 0, 0, 0, 0, 0, 0, 0, 0, 0,\n",
              "        0, 0, 0, 1],\n",
              "       [0, 0, 0, 0, 0, 2, 0, 0, 0, 0, 0, 1, 0, 0, 0, 0, 0, 0, 1, 0, 0, 0,\n",
              "        0, 0, 0, 0],\n",
              "       [0, 0, 1, 0, 0, 0, 0, 1, 0, 0, 0, 2, 0, 0, 0, 0, 0, 0, 0, 0, 0, 0,\n",
              "        0, 0, 0, 0],\n",
              "       [0, 0, 0, 0, 0, 0, 1, 1, 0, 0, 0, 1, 0, 0, 0, 0, 0, 0, 0, 0, 1, 0,\n",
              "        0, 0, 0, 0],\n",
              "       [1, 0, 0, 0, 0, 1, 0, 0, 0, 1, 0, 0, 0, 0, 0, 0, 0, 0, 0, 0, 0, 0,\n",
              "        0, 1, 0, 0],\n",
              "       [0, 0, 0, 0, 0, 1, 0, 2, 0, 0, 1, 0, 0, 0, 0, 0, 0, 0, 0, 0, 0, 0,\n",
              "        0, 0, 0, 0],\n",
              "       [0, 0, 0, 0, 1, 0, 0, 1, 1, 0, 0, 0, 0, 0, 0, 0, 0, 0, 0, 0, 0, 0,\n",
              "        0, 0, 0, 1],\n",
              "       [0, 1, 1, 0, 0, 0, 0, 1, 0, 0, 0, 0, 0, 0, 0, 0, 0, 0, 0, 0, 0, 0,\n",
              "        0, 0, 1, 0],\n",
              "       [0, 0, 1, 1, 0, 0, 0, 0, 1, 1, 0, 0, 0, 0, 0, 0, 0, 0, 0, 0, 0, 0,\n",
              "        0, 0, 0, 0],\n",
              "       [0, 0, 0, 0, 0, 0, 0, 1, 0, 0, 0, 0, 0, 0, 0, 0, 0, 0, 1, 1, 0, 0,\n",
              "        0, 0, 1, 0],\n",
              "       [0, 1, 0, 0, 0, 0, 0, 0, 0, 0, 1, 1, 0, 0, 1, 0, 0, 0, 0, 0, 0, 0,\n",
              "        0, 0, 0, 0],\n",
              "       [0, 0, 0, 0, 1, 0, 0, 0, 0, 0, 0, 0, 0, 0, 1, 0, 0, 0, 0, 1, 0, 0,\n",
              "        0, 1, 0, 0],\n",
              "       [0, 1, 0, 0, 0, 0, 0, 1, 1, 0, 0, 0, 0, 0, 0, 0, 0, 0, 0, 0, 0, 0,\n",
              "        0, 1, 0, 0],\n",
              "       [2, 0, 0, 0, 0, 0, 0, 0, 0, 0, 0, 0, 0, 0, 0, 0, 0, 0, 1, 0, 0, 0,\n",
              "        0, 0, 1, 0],\n",
              "       [0, 0, 0, 0, 0, 1, 0, 0, 0, 0, 0, 1, 1, 0, 0, 0, 0, 0, 0, 0, 0, 0,\n",
              "        0, 0, 1, 0],\n",
              "       [0, 0, 0, 0, 0, 1, 0, 1, 0, 0, 0, 0, 0, 0, 1, 0, 0, 1, 0, 0, 0, 0,\n",
              "        0, 0, 0, 0],\n",
              "       [0, 0, 0, 1, 1, 0, 0, 1, 0, 0, 0, 0, 0, 0, 0, 0, 0, 0, 0, 1, 0, 0,\n",
              "        0, 0, 0, 0],\n",
              "       [0, 0, 0, 0, 1, 0, 1, 1, 0, 1, 0, 0, 0, 0, 0, 0, 0, 0, 0, 0, 0, 0,\n",
              "        0, 0, 0, 0],\n",
              "       [0, 0, 0, 2, 0, 1, 0, 0, 0, 0, 0, 0, 0, 0, 0, 0, 0, 0, 0, 0, 0, 0,\n",
              "        0, 0, 0, 1],\n",
              "       [0, 0, 0, 0, 0, 0, 0, 0, 0, 0, 1, 0, 0, 0, 0, 0, 0, 0, 1, 1, 0, 0,\n",
              "        0, 1, 0, 0],\n",
              "       [0, 1, 0, 0, 0, 0, 1, 1, 1, 0, 0, 0, 0, 0, 0, 0, 0, 0, 0, 0, 0, 0,\n",
              "        0, 0, 0, 0],\n",
              "       [0, 0, 0, 0, 0, 1, 0, 0, 0, 0, 0, 0, 0, 0, 0, 0, 0, 2, 0, 1, 0, 0,\n",
              "        0, 0, 0, 0]])"
            ]
          },
          "metadata": {
            "tags": []
          },
          "execution_count": 30
        }
      ]
    },
    {
      "cell_type": "code",
      "metadata": {
        "id": "2v9vT8W_JOAH",
        "outputId": "00b2fc58-ee6f-411b-9f89-811f127d056f",
        "colab": {
          "base_uri": "https://localhost:8080/",
          "height": 35
        }
      },
      "source": [
        "from sklearn.metrics import accuracy_score\n",
        "accuracy_score(y_test, y_test_pred)"
      ],
      "execution_count": null,
      "outputs": [
        {
          "output_type": "execute_result",
          "data": {
            "text/plain": [
              "0.04807692307692308"
            ]
          },
          "metadata": {
            "tags": []
          },
          "execution_count": 31
        }
      ]
    },
    {
      "cell_type": "code",
      "metadata": {
        "id": "aXQobCb5JpLd"
      },
      "source": [
        ""
      ],
      "execution_count": null,
      "outputs": []
    }
  ]
}